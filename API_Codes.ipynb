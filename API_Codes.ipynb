{
  "nbformat": 4,
  "nbformat_minor": 0,
  "metadata": {
    "colab": {
      "provenance": []
    },
    "kernelspec": {
      "name": "python3",
      "display_name": "Python 3"
    },
    "language_info": {
      "name": "python"
    }
  },
  "cells": [
    {
      "cell_type": "markdown",
      "source": [
        "Q1. How do you create a basic Flask application?\n"
      ],
      "metadata": {
        "id": "39XTipD3gwfZ"
      }
    },
    {
      "cell_type": "code",
      "source": [
        "pip install Flask"
      ],
      "metadata": {
        "id": "YkGyjewPhW6X"
      },
      "execution_count": null,
      "outputs": []
    },
    {
      "cell_type": "code",
      "execution_count": null,
      "metadata": {
        "id": "uqz7rFnIgr-7"
      },
      "outputs": [],
      "source": [
        "from flask import Flask\n",
        "\n",
        "app = Flask(__name__)\n",
        "\n",
        "@app.route('/')\n",
        "def home():\n",
        "    return 'Hello, Flask!'\n",
        "\n",
        "if __name__ == '__main__':\n",
        "    app.run(debug=True)"
      ]
    },
    {
      "cell_type": "code",
      "source": [
        "python app.py"
      ],
      "metadata": {
        "id": "ChI02B-4g_Bj"
      },
      "execution_count": null,
      "outputs": []
    },
    {
      "cell_type": "markdown",
      "source": [
        "Q2. How do you serve static files like images or CSS in Flask?"
      ],
      "metadata": {
        "id": "8caB9XdihLHO"
      }
    },
    {
      "cell_type": "code",
      "source": [
        "from flask import Flask, render_template\n",
        "\n",
        "app = Flask(__name__)\n",
        "\n",
        "@app.route('/')\n",
        "def home():\n",
        "    return render_template('index.html')\n",
        "\n",
        "if __name__ == '__main__':\n",
        "    app.run(debug=True)"
      ],
      "metadata": {
        "id": "VBkUUmUXhCXo"
      },
      "execution_count": null,
      "outputs": []
    },
    {
      "cell_type": "markdown",
      "source": [
        "Q3.  How do you define different routes with different HTTP methods in flask"
      ],
      "metadata": {
        "id": "BHq73tp0iLw9"
      }
    },
    {
      "cell_type": "code",
      "source": [
        "@app.route('/route', methods=['GET', 'POST'])\n",
        "def my_route():\n",
        "    if request.method == 'POST':\n",
        "        return 'You sent a POST request!'\n",
        "    else:\n",
        "        return 'This is a GET request!'"
      ],
      "metadata": {
        "id": "20cqydzThr6K"
      },
      "execution_count": null,
      "outputs": []
    },
    {
      "cell_type": "code",
      "source": [
        "from flask import Flask, request\n",
        "\n",
        "app = Flask(__name__)\n",
        "\n",
        "@app.route('/')\n",
        "def home():\n",
        "    return 'Home Page - GET only'\n",
        "\n",
        "@app.route('/submit', methods=['GET', 'POST'])\n",
        "def submit():\n",
        "    if request.method == 'POST':\n",
        "        data = request.form.get('data')\n",
        "        return f'POST received: {data}'\n",
        "    return '''\n",
        "        <form method=\"post\">\n",
        "            <input type=\"text\" name=\"data\">\n",
        "            <input type=\"submit\">\n",
        "        </form>\n",
        "    '''"
      ],
      "metadata": {
        "id": "aPPPOkSgi-5y"
      },
      "execution_count": null,
      "outputs": []
    },
    {
      "cell_type": "code",
      "source": [
        "@app.route('/api/data', methods=['POST'])\n",
        "def api_data():\n",
        "    json_data = request.get_json()\n",
        "    return {'received': json_data}, 200\n",
        "\n",
        "if __name__ == '__main__':\n",
        "    app.run(debug=True)"
      ],
      "metadata": {
        "id": "r-OG0QxwjGR9"
      },
      "execution_count": null,
      "outputs": []
    },
    {
      "cell_type": "markdown",
      "source": [
        "Q4.How do you render HTML templates in Flask?"
      ],
      "metadata": {
        "id": "eOYxP9GijQzV"
      }
    },
    {
      "cell_type": "code",
      "source": [
        "<!DOCTYPE html>\n",
        "<html>\n",
        "<head>\n",
        "    <title>Welcome</title>\n",
        "</head>\n",
        "<body>\n",
        "    <h1>Hello, {{ name }}!</h1>\n",
        "</body>\n",
        "</html>\n"
      ],
      "metadata": {
        "id": "82CDqssfjLap"
      },
      "execution_count": null,
      "outputs": []
    },
    {
      "cell_type": "code",
      "source": [
        "from flask import Flask, render_template\n",
        "\n",
        "app = Flask(__name__)\n",
        "\n",
        "@app.route('/')\n",
        "def home():\n",
        "    return render_template('index.html', name='Flask User')\n",
        "\n",
        "if __name__ == '__main__':\n",
        "    app.run(debug=True)\n"
      ],
      "metadata": {
        "id": "z_JG7leZjcb4"
      },
      "execution_count": null,
      "outputs": []
    },
    {
      "cell_type": "markdown",
      "source": [
        "Q5.How can you generate URLs for routes in Flask using url_for?\n"
      ],
      "metadata": {
        "id": "rUuKCBfkji32"
      }
    },
    {
      "cell_type": "code",
      "source": [
        "from flask import Flask, url_for\n",
        "\n",
        "app = Flask(__name__)\n",
        "\n",
        "@app.route('/')\n",
        "def home():\n",
        "    return 'Home Page'\n",
        "\n",
        "@app.route('/about')\n",
        "def about():\n",
        "    return 'About Page'\n",
        "\n",
        "@app.route('/link-demo')\n",
        "def link_demo():\n",
        "    # Generate URL for the 'about' route\n",
        "    about_url = url_for('about')\n",
        "    return f'Click <a href=\"{about_url}\">here</a> to go to About'\n"
      ],
      "metadata": {
        "id": "XPi-Wy59jggK"
      },
      "execution_count": null,
      "outputs": []
    },
    {
      "cell_type": "code",
      "source": [
        "url_for('function_name', **kwargs)\n"
      ],
      "metadata": {
        "id": "G6BWsPRJjtYZ"
      },
      "execution_count": null,
      "outputs": []
    },
    {
      "cell_type": "markdown",
      "source": [
        "Q6. How do you handle forms in Flask?"
      ],
      "metadata": {
        "id": "MhghNQKOjzfj"
      }
    },
    {
      "cell_type": "code",
      "source": [
        "your_project/\n",
        "│\n",
        "├── app.py\n",
        "└── templates/\n",
        "    └── form.html\n"
      ],
      "metadata": {
        "id": "eMrzpWoijwHI"
      },
      "execution_count": null,
      "outputs": []
    },
    {
      "cell_type": "code",
      "source": [
        "#create a simple html formet\n",
        "<!DOCTYPE html>\n",
        "<html>\n",
        "<head>\n",
        "    <title>Form Example</title>\n",
        "</head>\n",
        "<body>\n",
        "    <h2>Enter Your Name</h2>\n",
        "    <form method=\"post\">\n",
        "        <input type=\"text\" name=\"name\" required>\n",
        "        <input type=\"submit\" value=\"Submit\">\n",
        "    </form>\n",
        "</body>\n",
        "</html>\n"
      ],
      "metadata": {
        "id": "4MbN2tFKj9w0"
      },
      "execution_count": null,
      "outputs": []
    },
    {
      "cell_type": "code",
      "source": [
        "from flask import Flask, request, render_template\n",
        "\n",
        "app = Flask(__name__)\n",
        "\n",
        "@app.route('/form', methods=['GET', 'POST'])\n",
        "def form():\n",
        "    if request.method == 'POST':\n",
        "        user_name = request.form['name']\n",
        "        return f'Hello, {user_name}!'\n",
        "    return render_template('form.html')\n",
        "\n",
        "if __name__ == '__main__':\n",
        "    app.run(debug=True)\n"
      ],
      "metadata": {
        "id": "Fn6rgJ46kGMQ"
      },
      "execution_count": null,
      "outputs": []
    },
    {
      "cell_type": "markdown",
      "source": [
        "Q7.  How can you validate form data in Flask?"
      ],
      "metadata": {
        "id": "ITTY4dyxkXUA"
      }
    },
    {
      "cell_type": "code",
      "source": [
        "#manula validation\n",
        "from flask import Flask, request, render_template_string\n",
        "\n",
        "app = Flask(__name__)\n",
        "\n",
        "@app.route('/form', methods=['GET', 'POST'])\n",
        "def form():\n",
        "    error = None\n",
        "    if request.method == 'POST':\n",
        "        name = request.form.get('name')\n",
        "        if not name or len(name) < 3:\n",
        "            error = 'Name must be at least 3 characters long.'\n",
        "        else:\n",
        "            return f'Welcome, {name}!'\n",
        "    return render_template_string('''\n",
        "        <form method=\"post\">\n",
        "            Name: <input type=\"text\" name=\"name\">\n",
        "            <input type=\"submit\">\n",
        "            <p style=\"color:red;\">{{ error }}</p>\n",
        "        </form>\n",
        "    ''', error=error)\n",
        "\n",
        "if __name__ == '__main__':\n",
        "    app.run(debug=True)\n"
      ],
      "metadata": {
        "id": "GjAFnhvzkKgc"
      },
      "execution_count": null,
      "outputs": []
    },
    {
      "cell_type": "markdown",
      "source": [
        "Q8.  How do you manage sessions in Flask?"
      ],
      "metadata": {
        "id": "KAr4REq0krrT"
      }
    },
    {
      "cell_type": "code",
      "source": [
        "#basic season setup\n",
        "from flask import Flask, session, redirect, url_for, request\n",
        "\n",
        "app = Flask(__name__)\n",
        "app.secret_key = 'your_secret_key'  # Required for session encryption\n"
      ],
      "metadata": {
        "id": "YZ5o3XYXkjb4"
      },
      "execution_count": null,
      "outputs": []
    },
    {
      "cell_type": "code",
      "source": [
        "#Storing data in season\n",
        "@app.route('/login', methods=['GET', 'POST'])\n",
        "def login():\n",
        "    if request.method == 'POST':\n",
        "        session['username'] = request.form['username']\n",
        "        return redirect(url_for('profile'))\n",
        "    return '''\n",
        "        <form method=\"post\">\n",
        "            <input type=\"text\" name=\"username\">\n",
        "            <input type=\"submit\" value=\"Login\">\n",
        "        </form> '''\n"
      ],
      "metadata": {
        "id": "IOOhzWcRk7oy"
      },
      "execution_count": null,
      "outputs": []
    },
    {
      "cell_type": "markdown",
      "source": [
        "Q9. How do you redirect to a different route in Flask?"
      ],
      "metadata": {
        "id": "22mJ9RhIlJJl"
      }
    },
    {
      "cell_type": "code",
      "source": [
        "from flask import Flask, redirect, url_for\n",
        "\n",
        "app = Flask(__name__)\n",
        "\n",
        "@app.route('/')\n",
        "def home():\n",
        "    return 'Welcome to the Home Page!'\n",
        "\n",
        "@app.route('/go-to-home')\n",
        "def go_to_home():\n",
        "    return redirect(url_for('home'))  # Redirect to the 'home' function\n"
      ],
      "metadata": {
        "id": "PWjaMEb5lAO_"
      },
      "execution_count": null,
      "outputs": []
    },
    {
      "cell_type": "code",
      "source": [
        "#redirect with parameter\n",
        "@app.route('/user/<username>')\n",
        "def user_profile(username):\n",
        "    return f'Hello, {username}!'\n",
        "\n",
        "@app.route('/login')\n",
        "def login():\n",
        "    return redirect(url_for('user_profile', username='john'))\n"
      ],
      "metadata": {
        "id": "JQWNKLiSk_h2"
      },
      "execution_count": null,
      "outputs": []
    },
    {
      "cell_type": "markdown",
      "source": [
        "Q10.  How do you handle errors in Flask (e.g., 404)?"
      ],
      "metadata": {
        "id": "i2AjjKQLlaaq"
      }
    },
    {
      "cell_type": "code",
      "source": [
        "from flask import Flask, render_template\n",
        "\n",
        "app = Flask(__name__)\n",
        "\n",
        "@app.errorhandler(404)\n",
        "def page_not_found(e):\n",
        "    return render_template('404.html'), 404\n",
        "\n",
        "@app.errorhandler(500)\n",
        "def internal_error(e):\n",
        "    return render_template('500.html'), 500\n"
      ],
      "metadata": {
        "id": "WB559E1llX2i"
      },
      "execution_count": null,
      "outputs": []
    },
    {
      "cell_type": "markdown",
      "source": [
        "Q11.How do you structure a Flask app using Blueprints?"
      ],
      "metadata": {
        "id": "60O0K5MplqYZ"
      }
    },
    {
      "cell_type": "code",
      "source": [
        "from flask import Blueprint, render_template\n",
        "\n",
        "blog_bp = Blueprint('blog', __name__, url_prefix='/blog')\n",
        "\n",
        "@blog_bp.route('/')\n",
        "def blog_home():\n",
        "    return 'Welcome to the Blog!'\n",
        "\n",
        "@blog_bp.route('/post/<int:post_id>')\n",
        "def show_post(post_id):\n",
        "    return f'Post {post_id}'\n"
      ],
      "metadata": {
        "id": "YFx1JtVZlmIt"
      },
      "execution_count": null,
      "outputs": []
    },
    {
      "cell_type": "code",
      "source": [
        "#one more\n",
        "from flask import Blueprint\n",
        "\n",
        "auth_bp = Blueprint('auth', __name__, url_prefix='/auth')\n",
        "\n",
        "@auth_bp.route('/login')\n",
        "def login():\n",
        "    return 'Login Page'\n"
      ],
      "metadata": {
        "id": "XCfDEchRl2H_"
      },
      "execution_count": null,
      "outputs": []
    },
    {
      "cell_type": "markdown",
      "source": [
        "Q12.How do you define a custom Jinja filter in Flask?"
      ],
      "metadata": {
        "id": "kOg4QLGKl5ZB"
      }
    },
    {
      "cell_type": "code",
      "source": [
        "def reverse_string(s):\n",
        "    return s[::-1]\n"
      ],
      "metadata": {
        "id": "HJ08lMbBl4lC"
      },
      "execution_count": null,
      "outputs": []
    },
    {
      "cell_type": "code",
      "source": [
        "from flask import Flask\n",
        "\n",
        "app = Flask(__name__)\n",
        "\n",
        "@app.template_filter('reverse')\n",
        "def reverse_string(s):\n",
        "    return s[::-1]\n"
      ],
      "metadata": {
        "id": "vy8rtqZ9mBql"
      },
      "execution_count": null,
      "outputs": []
    },
    {
      "cell_type": "code",
      "source": [
        "#Or\n",
        "app.add_template_filter(reverse_string, 'reverse')\n"
      ],
      "metadata": {
        "id": "tkvBAZ1FmD3y"
      },
      "execution_count": null,
      "outputs": []
    },
    {
      "cell_type": "code",
      "source": [
        "#full explanation\n",
        "from flask import Flask, render_template_string\n",
        "\n",
        "app = Flask(__name__)\n",
        "\n",
        "@app.template_filter('reverse')\n",
        "def reverse_string(s):\n",
        "    return s[::-1]\n",
        "\n",
        "@app.route('/')\n",
        "def home():\n",
        "    return render_template_string('{{ \"Flask\" | reverse }}')\n",
        "\n",
        "if __name__ == '__main__':\n",
        "    app.run(debug=True)\n"
      ],
      "metadata": {
        "id": "J4bfN2dlmHxo"
      },
      "execution_count": null,
      "outputs": []
    },
    {
      "cell_type": "markdown",
      "source": [
        "Q13.How can you redirect with query parameters in Flask?"
      ],
      "metadata": {
        "id": "RpxHDYzvmNmg"
      }
    },
    {
      "cell_type": "code",
      "source": [
        "from flask import Flask, redirect, url_for, request\n",
        "\n",
        "app = Flask(__name__)\n",
        "\n",
        "@app.route('/search')\n",
        "def search():\n",
        "    query = request.args.get('q', '')\n",
        "    return f'Search results for: {query}'\n",
        "\n",
        "@app.route('/go-to-search')\n",
        "def go_to_search():\n",
        "    # Redirect to /search?q=flask\n",
        "    return redirect(url_for('search', q='flask'))\n",
        "\n",
        "if __name__ == '__main__':\n",
        "    app.run(debug=True)\n"
      ],
      "metadata": {
        "id": "dhajbLHGmMVB"
      },
      "execution_count": null,
      "outputs": []
    },
    {
      "cell_type": "code",
      "source": [
        "url_for('search', q='flask', page=2)\n"
      ],
      "metadata": {
        "id": "zBYJ7nRqmoVO"
      },
      "execution_count": null,
      "outputs": []
    },
    {
      "cell_type": "markdown",
      "source": [
        "Q14.  How do you return JSON responses in Flas?"
      ],
      "metadata": {
        "id": "ZvRN1mdUmsH9"
      }
    },
    {
      "cell_type": "code",
      "source": [
        "from flask import Flask, jsonify\n",
        "\n",
        "app = Flask(__name__)\n",
        "\n",
        "@app.route('/api/data')\n",
        "def get_data():\n",
        "    data = {\n",
        "        'name': 'Alice',\n",
        "        'age': 30,\n",
        "        'city': 'Wonderland'\n",
        "    }\n",
        "    return jsonify(data)\n",
        "\n",
        "if __name__ == '__main__':\n",
        "    app.run(debug=True)\n"
      ],
      "metadata": {
        "id": "zmYZMBqHmqBK"
      },
      "execution_count": null,
      "outputs": []
    },
    {
      "cell_type": "code",
      "source": [
        "#manual\n",
        "from flask import Flask, Response\n",
        "import json\n",
        "\n",
        "app = Flask(__name__)\n",
        "\n",
        "@app.route('/api/manual')\n",
        "def manual_json():\n",
        "    data = {'status': 'success', 'code': 200}\n",
        "    response = Response(json.dumps(data), mimetype='application/json')\n",
        "    return response\n"
      ],
      "metadata": {
        "id": "mHyDryKIm1r3"
      },
      "execution_count": null,
      "outputs": []
    },
    {
      "cell_type": "code",
      "source": [
        "return jsonify(data), 201\n"
      ],
      "metadata": {
        "id": "5umwrMfum4UE"
      },
      "execution_count": null,
      "outputs": []
    },
    {
      "cell_type": "markdown",
      "source": [
        "Q15.  How do you capture URL parameters in Flask?"
      ],
      "metadata": {
        "id": "6485n_lbm72B"
      }
    },
    {
      "cell_type": "code",
      "source": [
        "from flask import Flask\n",
        "\n",
        "app = Flask(__name__)\n",
        "\n",
        "# Capture a string parameter\n",
        "@app.route('/user/<username>')\n",
        "def show_user(username):\n",
        "    return f'User: {username}'\n",
        "\n",
        "# Capture an integer parameter\n",
        "@app.route('/post/<int:post_id>')\n",
        "def show_post(post_id):\n",
        "    return f'Post ID: {post_id}'\n",
        "\n",
        "if __name__ == '__main__':\n",
        "    app.run(debug=True)\n"
      ],
      "metadata": {
        "id": "P4ju__Hfm6L2"
      },
      "execution_count": null,
      "outputs": []
    },
    {
      "cell_type": "code",
      "source": [],
      "metadata": {
        "id": "nTV8EBcHnHuH"
      },
      "execution_count": null,
      "outputs": []
    }
  ]
}